{
  "cells": [
    {
      "cell_type": "code",
      "execution_count": null,
      "metadata": {
        "colab": {
          "base_uri": "https://localhost:8080/"
        },
        "id": "kRpHehz7h16v",
        "outputId": "f47b3330-2fb8-494c-862c-55f7125e93ed"
      },
      "outputs": [],
      "source": [
        "!pip -q install crewai duckduckgo-search decouple langchain-google-genai\n",
        "\n",
        "# install crewai[tools] with \"pip install 'crewai[tools]'\"\n",
        "\n",
        "# crewai==0.22.5"
      ]
    },
    {
      "cell_type": "code",
      "execution_count": null,
      "metadata": {},
      "outputs": [],
      "source": [
        "!py -3.11 -m pip install --upgrade pip"
      ]
    },
    {
      "cell_type": "code",
      "execution_count": null,
      "metadata": {
        "colab": {
          "base_uri": "https://localhost:8080/"
        },
        "id": "8snXy6GICdoq",
        "outputId": "30ecea2e-00e3-4103-97bd-2f3df6f8af60"
      },
      "outputs": [],
      "source": [
        "!pip show crewai"
      ]
    },
    {
      "cell_type": "code",
      "execution_count": null,
      "metadata": {
        "id": "vjJP9Pj8ktuZ"
      },
      "outputs": [],
      "source": [
        "import os\n",
        "!pip install python-dotenv\n",
        "from dotenv import load_dotenv\n",
        "load_dotenv()"
      ]
    },
    {
      "cell_type": "markdown",
      "metadata": {
        "id": "8G40lprgkCJ2"
      },
      "source": [
        "## Tool"
      ]
    },
    {
      "cell_type": "code",
      "execution_count": null,
      "metadata": {
        "id": "f3GvksYIkA1m"
      },
      "outputs": [],
      "source": [
        "from langchain.tools import DuckDuckGoSearchRun\n",
        "search_tool = DuckDuckGoSearchRun()"
      ]
    },
    {
      "cell_type": "markdown",
      "metadata": {
        "id": "1FhZyiMakLNL"
      },
      "source": [
        "## Agents"
      ]
    },
    {
      "cell_type": "code",
      "execution_count": null,
      "metadata": {
        "id": "R1T4G_7ykMN5"
      },
      "outputs": [],
      "source": [
        "from textwrap import dedent\n",
        "from crewai import Agent\n",
        "from langchain_google_genai import ChatGoogleGenerativeAI\n",
        "\n",
        "\n",
        "gemini_api_key = os.getenv(\"GEMINI_API_KEY\")\n",
        "llm = ChatGoogleGenerativeAI(model=\"gemini-pro\",\n",
        "                                verbose=True, temperature=0.3, google_api_key=gemini_api_key)\n",
        "\n",
        "class MeetingPreparationAgents():\n",
        "\tdef research_agent(self):\n",
        "\t\treturn Agent(\n",
        "\t\t\trole='Research Specialist',\n",
        "\t\t\tgoal='Conduct thorough research on people and companies involved in the meeting',\n",
        "\t\t\ttools=[search_tool],\n",
        "\t\t\tbackstory=dedent(\"\"\"\\\n",
        "\t\t\t\t\tAs a Research Specialist, your mission is to uncover detailed information\n",
        "\t\t\t\t\tabout the individuals and entities participating in the meeting. Your insights\n",
        "\t\t\t\t\twill lay the groundwork for strategic meeting preparation.\"\"\"),\n",
        "\t\t\tllm=llm,\n",
        "\t\t\tmax_rpm=3,\n",
        "\t\t\tverbose=True\n",
        "\t\t)\n",
        "\n",
        "\tdef industry_analysis_agent(self):\n",
        "\t\treturn Agent(\n",
        "\t\t\trole='Industry Analyst',\n",
        "\t\t\tgoal='Analyze the current industry trends, challenges, and opportunities',\n",
        "\t\t\ttools=[search_tool],\n",
        "\t\t\tbackstory=dedent(\"\"\"\\\n",
        "\t\t\t\t\tAs an Industry Analyst, your analysis will identify key trends,\n",
        "\t\t\t\t\tchallenges facing the industry, and potential opportunities that\n",
        "\t\t\t\t\tcould be leveraged during the meeting for strategic advantage.\"\"\"),\n",
        "\t\t\tllm=llm,\n",
        "\t\t\tmax_rpm=3,\n",
        "\t\t\tverbose=True\n",
        "\t\t)\n",
        "\n",
        "\tdef meeting_strategy_agent(self):\n",
        "\t\treturn Agent(\n",
        "\t\t\trole='Meeting Strategy Advisor',\n",
        "\t\t\tgoal='Develop talking points, questions, and strategic angles for the meeting',\n",
        "\t\t\ttools=[search_tool],\n",
        "\t\t\tbackstory=dedent(\"\"\"\\\n",
        "\t\t\t\t\tAs a Strategy Advisor, your expertise will guide the development of\n",
        "\t\t\t\t\ttalking points, insightful questions, and strategic angles\n",
        "\t\t\t\t\tto ensure the meeting's objectives are achieved.\"\"\"),\n",
        "\t\t\tllm=llm,\n",
        "\t\t\tmax_rpm=3,\n",
        "\t\t\tverbose=True\n",
        "\t\t)\n",
        "\n",
        "\tdef summary_and_briefing_agent(self):\n",
        "\t\treturn Agent(\n",
        "\t\t\trole='Briefing Coordinator',\n",
        "\t\t\tgoal='Compile all gathered information into a concise, informative briefing document',\n",
        "\t\t\ttools=[search_tool],\n",
        "\t\t\tbackstory=dedent(\"\"\"\\\n",
        "\t\t\t\t\tAs the Briefing Coordinator, your role is to consolidate the research,\n",
        "\t\t\t\t\tanalysis, and strategic insights.\"\"\"),\n",
        "\t\t\tllm=llm,\n",
        "\t\t\tmax_rpm=3,\n",
        "\t\t\tverbose=True\n",
        "\t\t)"
      ]
    },
    {
      "cell_type": "markdown",
      "metadata": {
        "id": "0CxGkAovkUVK"
      },
      "source": [
        "## Tasks"
      ]
    },
    {
      "cell_type": "code",
      "execution_count": null,
      "metadata": {
        "id": "pjSs0lIvkWO3"
      },
      "outputs": [],
      "source": [
        "from crewai import Task\n",
        "\n",
        "class MeetingPreparationTasks():\n",
        "\tdef research_task(self, agent, participants, context):\n",
        "\t\treturn Task(\n",
        "\t\t\tdescription=dedent(f\"\"\"\\\n",
        "\t\t\t\tConduct comprehensive research on each of the individuals and companies\n",
        "\t\t\t\tinvolved in the upcoming meeting. Gather information on recent\n",
        "\t\t\t\tnews, achievements, professional background, and any relevant\n",
        "\t\t\t\tbusiness activities.\n",
        "\n",
        "\t\t\t\tParticipants: {participants}\n",
        "\t\t\t\tMeeting Context: {context}\"\"\"),\n",
        "\t\t\texpected_output=dedent(\"\"\"\\\n",
        "\t\t\t\tA detailed report summarizing key findings about each participant\n",
        "\t\t\t\tand company, highlighting information that could be relevant for the meeting.\"\"\"),\n",
        "\t\t\tasync_execution=True,\n",
        "\t\t\tagent=agent\n",
        "\t\t)\n",
        "\n",
        "\tdef industry_analysis_task(self, agent, participants, context):\n",
        "\t\treturn Task(\n",
        "\t\t\tdescription=dedent(f\"\"\"\\\n",
        "\t\t\t\tAnalyze the current industry trends, challenges, and opportunities\n",
        "\t\t\t\trelevant to the meeting's context. Consider market reports, recent\n",
        "\t\t\t\tdevelopments, and expert opinions to provide a comprehensive\n",
        "\t\t\t\toverview of the industry landscape.\n",
        "\n",
        "\t\t\t\tParticipants: {participants}\n",
        "\t\t\t\tMeeting Context: {context}\"\"\"),\n",
        "\t\t\texpected_output=dedent(\"\"\"\\\n",
        "\t\t\t\tAn insightful analysis that identifies major trends, potential\n",
        "\t\t\t\tchallenges, and strategic opportunities.\"\"\"),\n",
        "\t\t\tasync_execution=True,\n",
        "\t\t\tagent=agent\n",
        "\t\t)\n",
        "\n",
        "\tdef meeting_strategy_task(self, agent, context, objective):\n",
        "\t\treturn Task(\n",
        "\t\t\tdescription=dedent(f\"\"\"\\\n",
        "\t\t\t\tDevelop strategic talking points, questions, and discussion angles\n",
        "\t\t\t\tfor the meeting based on the research and industry analysis conducted\n",
        "\n",
        "\t\t\t\tMeeting Context: {context}\n",
        "\t\t\t\tMeeting Objective: {objective}\"\"\"),\n",
        "\t\t\texpected_output=dedent(\"\"\"\\\n",
        "\t\t\t\tComplete report with a list of key talking points, strategic questions\n",
        "\t\t\t\tto ask to help achieve the meetings objective during the meeting.\"\"\"),\n",
        "\t\t\tagent=agent\n",
        "\t\t)\n",
        "\n",
        "\tdef summary_and_briefing_task(self, agent, context, objective):\n",
        "\t\treturn Task(\n",
        "\t\t\tdescription=dedent(f\"\"\"\\\n",
        "\t\t\t\tCompile all the research findings, industry analysis, and strategic\n",
        "\t\t\t\ttalking points into a concise, comprehensive briefing document for\n",
        "\t\t\t\tthe meeting.\n",
        "\t\t\t\tEnsure the briefing is easy to digest and equips the meeting\n",
        "\t\t\t\tparticipants with all necessary information and strategies.\n",
        "\n",
        "\t\t\t\tMeeting Context: {context}\n",
        "\t\t\t\tMeeting Objective: {objective}\"\"\"),\n",
        "\t\t\texpected_output=dedent(\"\"\"\\\n",
        "\t\t\t\tA well-structured briefing document that includes sections for\n",
        "\t\t\t\tparticipant bios, industry overview, talking points, and\n",
        "\t\t\t\tstrategic recommendations.\"\"\"),\n",
        "\t\t\tagent=agent\n",
        "\t\t)"
      ]
    },
    {
      "cell_type": "markdown",
      "metadata": {
        "id": "Xma0GE-Kk9Ef"
      },
      "source": [
        "## Crew"
      ]
    },
    {
      "cell_type": "code",
      "execution_count": null,
      "metadata": {
        "colab": {
          "base_uri": "https://localhost:8080/"
        },
        "id": "Sp1UYCsJngDX",
        "outputId": "e14eb2f9-e9e3-4529-a8a8-4c2eae7c5c88"
      },
      "outputs": [],
      "source": [
        "from crewai import Crew\n",
        "\n",
        "\n",
        "tasks = MeetingPreparationTasks()\n",
        "agents = MeetingPreparationAgents()\n",
        "\n",
        "participants = \"Andrew Ng, Andrej Karpathy, Demis Hassabis\"\n",
        "context = \"Comptetitive analysis on AI Agents topic\"\n",
        "objective = \"Convince participants that the company should purchase Agents of Tomorrow, which is a startup that created a promising framework for orchestrating AI Agents\"\n"
      ]
    },
    {
      "cell_type": "code",
      "execution_count": null,
      "metadata": {
        "id": "HjFCY7iPngFf"
      },
      "outputs": [],
      "source": [
        "# Create Agents\n",
        "researcher_agent = agents.research_agent()\n",
        "industry_analyst_agent = agents.industry_analysis_agent()\n",
        "meeting_strategy_agent = agents.meeting_strategy_agent()\n",
        "summary_and_briefing_agent = agents.summary_and_briefing_agent()\n",
        "\n",
        "# Create Tasks\n",
        "research = tasks.research_task(researcher_agent, participants, context)\n",
        "industry_analysis = tasks.industry_analysis_task(industry_analyst_agent, participants, context)\n",
        "meeting_strategy = tasks.meeting_strategy_task(meeting_strategy_agent, context, objective)\n",
        "summary_and_briefing = tasks.summary_and_briefing_task(summary_and_briefing_agent, context, objective)\n",
        "\n",
        "meeting_strategy.context = [research, industry_analysis]\n",
        "summary_and_briefing.context = [research, industry_analysis, meeting_strategy]\n"
      ]
    },
    {
      "cell_type": "code",
      "execution_count": null,
      "metadata": {
        "id": "kqNZTBfZk9-o"
      },
      "outputs": [],
      "source": [
        "\n",
        "\n",
        "# Create Crew responsible for Copy\n",
        "crew = Crew(\n",
        "\tagents=[\n",
        "\t\tresearcher_agent,\n",
        "\t\tindustry_analyst_agent,\n",
        "\t\tmeeting_strategy_agent,\n",
        "\t\tsummary_and_briefing_agent\n",
        "\t],\n",
        "\ttasks=[\n",
        "\t\tresearch,\n",
        "\t\tindustry_analysis,\n",
        "\t\tmeeting_strategy,\n",
        "\t\tsummary_and_briefing\n",
        "\t]\n",
        ")\n",
        "\n"
      ]
    },
    {
      "cell_type": "code",
      "execution_count": null,
      "metadata": {
        "colab": {
          "base_uri": "https://localhost:8080/"
        },
        "id": "VjexedHJn1zd",
        "outputId": "100c45a9-8cce-454d-e029-393a7078bf95"
      },
      "outputs": [],
      "source": [
        "result = crew.kickoff()\n",
        "\n",
        "\n",
        "# Print results\n",
        "print(\"\\n\\n################################################\")\n",
        "print(\"## Here is the result\")\n",
        "print(\"################################################\\n\")\n",
        "print(result)"
      ]
    },
    {
      "cell_type": "code",
      "execution_count": null,
      "metadata": {
        "colab": {
          "base_uri": "https://localhost:8080/",
          "height": 686
        },
        "id": "D5VgyDv1INPm",
        "outputId": "5f3ca939-4590-4c94-a300-27b871df5359"
      },
      "outputs": [],
      "source": [
        "from IPython.display import display, Markdown\n",
        "display(Markdown(result))\n"
      ]
    },
    {
      "cell_type": "code",
      "execution_count": null,
      "metadata": {
        "id": "SHk7zl6po1JM"
      },
      "outputs": [],
      "source": []
    }
  ],
  "metadata": {
    "colab": {
      "provenance": []
    },
    "kernelspec": {
      "display_name": "Python 3",
      "name": "python3"
    },
    "language_info": {
      "codemirror_mode": {
        "name": "ipython",
        "version": 3
      },
      "file_extension": ".py",
      "mimetype": "text/x-python",
      "name": "python",
      "nbconvert_exporter": "python",
      "pygments_lexer": "ipython3",
      "version": "3.11.0"
    }
  },
  "nbformat": 4,
  "nbformat_minor": 0
}
